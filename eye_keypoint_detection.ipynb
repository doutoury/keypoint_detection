{
 "metadata": {
  "language_info": {
   "codemirror_mode": {
    "name": "ipython",
    "version": 3
   },
   "file_extension": ".py",
   "mimetype": "text/x-python",
   "name": "python",
   "nbconvert_exporter": "python",
   "pygments_lexer": "ipython3",
   "version": "3.7.10"
  },
  "orig_nbformat": 2,
  "kernelspec": {
   "name": "python3710jvsc74a57bd08182dd0ad4173cdddc5298b982923877be00ee4d2f569af5d6459bf4e939e93c",
   "display_name": "Python 3.7.10 64-bit ('aiffel': conda)"
  },
  "metadata": {
   "interpreter": {
    "hash": "8182dd0ad4173cdddc5298b982923877be00ee4d2f569af5d6459bf4e939e93c"
   }
  }
 },
 "nbformat": 4,
 "nbformat_minor": 2,
 "cells": [
  {
   "source": [
    "<br>\n",
    "\n",
    "# Eye Keypoint Detector\n",
    "---\n",
    "<br>\n",
    "\n",
    "## 딥러닝 모델을 이용한 키포인트 검출 <br><br>\n",
    "\n",
    "기존 키포인트 검출 모델보다 더 좋은 성능을 만들기 위해 <br>\n",
    "딥러닝 모델을 이용한 키포인트 검출을 시도\n",
    "\n",
    "<br>"
   ],
   "cell_type": "markdown",
   "metadata": {}
  },
  {
   "source": [
    "<br>\n",
    "\n",
    "## 데이터 준비 <br><br>\n",
    "\n",
    "\n",
    "학습에 필요한 데이터셋이 충분히 많으면 상관 없지만, <br>\n",
    "데이터셋이 부족할 경우 직접 데이터셋을 생성해야할 때도 있습니다. <br><br>\n",
    "\n",
    "이 때, 수 많은 데이터셋을 자동으로 생성하기 위해 <br>\n",
    "필요한 데이터셋에 따라 여러가지 방법이 사용됩니다. <br><br><br>\n",
    "\n",
    "\n",
    "\n",
    "### Data Annotation <br><br>\n",
    "\n",
    "\n",
    "눈동자 검출 모델을 생성하기 위해서 대량의 '눈동자 위치 라벨' 이 필요 <br>\n",
    "( 성능 확인을 위해서는 10000 개 이상 필요 ) <br><br>\n",
    "\n",
    "LFW 데이터셋에 눈동자 라벨링을 위한 어노테이션 함수를 적용하여 <br>\n",
    "필요한 데이터셋을 대량으로 생성해 봅시다. <br>\n",
    "( 여기서는 ```prepare_eye_dataset.py``` 를 실행하여 어노테이션된 데이터셋 생성 )\n",
    "\n",
    "<br>"
   ],
   "cell_type": "markdown",
   "metadata": {}
  },
  {
   "source": [],
   "cell_type": "markdown",
   "metadata": {}
  },
  {
   "cell_type": "code",
   "execution_count": 1,
   "metadata": {},
   "outputs": [],
   "source": [
    "# 모듈 임포트\n",
    "\n",
    "import tensorflow as tf\n",
    "import numpy as np\n",
    "import math\n",
    "import tensorflow_hub as hub\n",
    "from tensorflow.keras import layers\n",
    "from tensorflow.keras import models\n",
    "from tensorflow.keras.callbacks import LearningRateScheduler"
   ]
  },
  {
   "source": [
    "<br>\n",
    "\n",
    "TensorFlow Hub에서 제공하는 pretrained image feature embedding 을 이용하여 fine tuning <br><br>\n",
    "\n",
    "데이터를 케라스 ImageDataGenerator 형식으로 읽기 <br>\n",
    "( 여기서는 라벨이 image 형태로 저장되 있습니다 )\n",
    "\n",
    "<br>"
   ],
   "cell_type": "markdown",
   "metadata": {}
  },
  {
   "cell_type": "code",
   "execution_count": 2,
   "metadata": {},
   "outputs": [
    {
     "output_type": "stream",
     "name": "stdout",
     "text": [
      "23680 23680\n",
      "Found 23680 images belonging to 1 classes.\n",
      "Found 23680 images belonging to 1 classes.\n"
     ]
    }
   ],
   "source": [
    "# 어노테이션된 (이미지)데이터를 불러와 학습을 위한 데이터 준비\n",
    "\n",
    "import glob\n",
    "import os\n",
    "\n",
    "home_dir = os.getenv('HOME')+'/lfw'\n",
    "list_image = sorted(glob.glob(home_dir+'/data/train/input/img/*.png'))\n",
    "list_label = sorted(glob.glob(home_dir+'/data/train/label/mask/*.png'))\n",
    "print (len(list_image), len(list_label))\n",
    "\n",
    "# 32의 배수를 벗어나는 파일 경로들을 담은 list\n",
    "list_image_out_of_range = list_image[len(list_image) - (len(list_image) % 32):]\n",
    "list_label_out_of_range = list_label[len(list_label) - (len(list_label) % 32):]\n",
    "\n",
    "# 해당 list가 존재한다면, 파일 삭제\n",
    "if list_image_out_of_range:\n",
    "    for path in list_image_out_of_range:\n",
    "        os.remove(path)\n",
    "if list_label_out_of_range:\n",
    "    for path in list_label_out_of_range:\n",
    "        os.remove(path)\n",
    "\n",
    "IMAGE_SHAPE = (80, 120)\n",
    "data_root = home_dir+'/data/train/input'\n",
    "label_root = home_dir+'/data/train/label'\n",
    "\n",
    "image_generator = tf.keras.preprocessing.image.ImageDataGenerator()\n",
    "label_generator = tf.keras.preprocessing.image.ImageDataGenerator()\n",
    "image_data = image_generator.flow_from_directory(str(data_root), class_mode=None, target_size=IMAGE_SHAPE, batch_size=32)\n",
    "label_data = label_generator.flow_from_directory(str(label_root), class_mode=None, target_size=IMAGE_SHAPE, batch_size=32)"
   ]
  },
  {
   "source": [
    "<br>\n",
    "\n",
    "### Dataset generator <br><br>\n",
    "\n",
    "모델 학습을 위한 데이터셋을 생성하는 함수를 작성 <br><br>\n",
    "\n",
    "image_generator 와 label generator 를 학습할 수 있는 입출력 형식으로 편집 <br>\n",
    "텐서플로우의 제너레이터(generator) 형식을 사용하고 있기 때문에 출력 형식도 맞추어 주기 <br><br>\n",
    "\n",
    "참고. <br>\n",
    "[제네레이터](https://tensorflow.blog/%ED%9A%8C%EC%98%A4%EB%A6%AC%EB%B0%94%EB%9E%8C%EC%9D%84-%ED%83%84-%ED%8C%8C%EC%9D%B4%EC%8D%AC/%EC%A0%9C%EB%84%88%EB%A0%88%EC%9D%B4%ED%84%B0/)\n",
    "\n",
    "<br>"
   ],
   "cell_type": "markdown",
   "metadata": {}
  },
  {
   "cell_type": "code",
   "execution_count": 3,
   "metadata": {},
   "outputs": [],
   "source": [
    "# 모델 학습을 위한 데이터셋 생성하는 함수 작성\n",
    "\n",
    "def user_generation(train_generator, label_generator):\n",
    "    h, w = train_generator.target_size\n",
    "    for images, labels in zip(train_generator, label_generator):\n",
    "        images /= 255.\n",
    "        images = images[..., ::-1] # rgb to bgr\n",
    "\n",
    "        list_point_labels = []\n",
    "        for img, label in zip(images, labels):\n",
    "\n",
    "            eye_ls = np.where(label==1) # leftside\n",
    "            eye_rs = np.where(label==2) # rightside\n",
    "            eye_center = np.where(label==3)\n",
    "\n",
    "            lx, ly = [eye_ls[1].mean(), eye_ls[0].mean()]\n",
    "            rx, ry = [eye_rs[1].mean(), eye_rs[0].mean()]\n",
    "            cx, cy = [eye_center[1].mean(), eye_center[0].mean()]\n",
    "\n",
    "            if len(eye_ls[0])==0 or len(eye_ls[1])==0:\n",
    "                lx, ly = [0, 0]\n",
    "            if len(eye_rs[0])==0 or len(eye_rs[1])==0:\n",
    "                rx, ry = [w, h]\n",
    "            if len(eye_center[0])==0 or len(eye_center[1])==0:\n",
    "                cx, cy = [0, 0]\n",
    "\n",
    "            np_point_label = np.array([lx/w,ly/h,rx/w,ry/h,cx/w,cy/h], dtype=np.float32)\n",
    "\n",
    "            list_point_labels.append(np_point_label)\n",
    "        np_point_labels = np.array(list_point_labels)\n",
    "        yield (images, np_point_labels)"
   ]
  },
  {
   "cell_type": "code",
   "execution_count": 4,
   "metadata": {},
   "outputs": [
    {
     "output_type": "stream",
     "name": "stdout",
     "text": [
      "(80, 120, 3) [0.     0.     1.     1.     0.6375 0.4   ]\n",
      "(80, 120, 3) [0.         0.         1.         1.         0.06666667 0.3330357 ]\n",
      "/home/ssac29/anaconda3/envs/aiffel/lib/python3.7/site-packages/ipykernel_launcher.py:16: RuntimeWarning: Mean of empty slice.\n",
      "  app.launch_new_instance()\n",
      "/home/ssac29/anaconda3/envs/aiffel/lib/python3.7/site-packages/numpy/core/_methods.py:170: RuntimeWarning: invalid value encountered in double_scalars\n",
      "  ret = ret.dtype.type(ret / rcount)\n",
      "/home/ssac29/anaconda3/envs/aiffel/lib/python3.7/site-packages/ipykernel_launcher.py:17: RuntimeWarning: Mean of empty slice.\n"
     ]
    }
   ],
   "source": [
    "# 생성한 user_generation 제네레이터 함수로 데이터 포인트를 뽑아 확인\n",
    "# 120x80의 정해진 크기로 이미지가 잘 출력되고 라벨 또한 0~1 갑ㅅ으로 정규화(normalize) 되어 있는 것을 확인\n",
    "\n",
    "user_train_generator = user_generation(image_data, label_data)\n",
    "for i in range(2):\n",
    "    dd = next(user_train_generator)\n",
    "    print (dd[0][0].shape, dd[1][0])"
   ]
  },
  {
   "source": [
    "<br>\n",
    "\n",
    "## 모델 설계 : Keypoint 검출 딥러닝 모델 만들기 <br><br>\n",
    "\n",
    "\n",
    "데이터가 부족하므로 '미리 학습된 모델' 을 적극 활용 <br>\n",
    "\n",
    "- TensorFlow Hub 에서 ResNet 의 feature Extraction (특성추출) 부분을 백본(backbone) 모델로 사용 <br>\n",
    "\n",
    "- ```tf.keras.Sequential()``` 을 이용해 <br>\n",
    "backbone 네트워크 + fully connected layer 의 형태로 레이어를 추가로 쌓아 쉽게 모델을 완성 <br><br><br>\n",
    "\n",
    "\n",
    "\n",
    "- 데이터 제네레이터에서 출력을 (x,y)좌표 2개 * 점 3개 인 6개로 정했기 때문에, <br>\n",
    "```num_classes = 6``` 으로 설정 <br><br>\n",
    "\n",
    "- 이 문제는 점을 맞는 위치로 추정하는 position regression 문제이기 때문에 <br>\n",
    "loss와 metric을 각각 mse 와 mae 로 설정 <br>\n",
    "( mae 를 통해서 픽셀 위치가 평균적으로 얼마나 차이나는지 확인하면서 학습할 수 있습니다 )\n",
    "\n",
    "<br>"
   ],
   "cell_type": "markdown",
   "metadata": {}
  },
  {
   "cell_type": "code",
   "execution_count": 5,
   "metadata": {},
   "outputs": [
    {
     "output_type": "stream",
     "name": "stdout",
     "text": [
      "(32, 2048)\n",
      "WARNING:tensorflow:AutoGraph could not transform <bound method KerasLayer.call of <tensorflow_hub.keras_layer.KerasLayer object at 0x7fc2a4ffcb10>> and will run it as-is.\n",
      "Please report this to the TensorFlow team. When filing the bug, set the verbosity to 10 (on Linux, `export AUTOGRAPH_VERBOSITY=10`) and attach the full output.\n",
      "Cause: module 'gast' has no attribute 'Index'\n",
      "To silence this warning, decorate the function with @tf.autograph.experimental.do_not_convert\n",
      "WARNING:tensorflow:AutoGraph could not transform <bound method KerasLayer.call of <tensorflow_hub.keras_layer.KerasLayer object at 0x7fc2a4ffcb10>> and will run it as-is.\n",
      "Please report this to the TensorFlow team. When filing the bug, set the verbosity to 10 (on Linux, `export AUTOGRAPH_VERBOSITY=10`) and attach the full output.\n",
      "Cause: module 'gast' has no attribute 'Index'\n",
      "To silence this warning, decorate the function with @tf.autograph.experimental.do_not_convert\n",
      "WARNING: AutoGraph could not transform <bound method KerasLayer.call of <tensorflow_hub.keras_layer.KerasLayer object at 0x7fc2a4ffcb10>> and will run it as-is.\n",
      "Please report this to the TensorFlow team. When filing the bug, set the verbosity to 10 (on Linux, `export AUTOGRAPH_VERBOSITY=10`) and attach the full output.\n",
      "Cause: module 'gast' has no attribute 'Index'\n",
      "To silence this warning, decorate the function with @tf.autograph.experimental.do_not_convert\n",
      "Model: \"sequential\"\n",
      "_________________________________________________________________\n",
      "Layer (type)                 Output Shape              Param #   \n",
      "=================================================================\n",
      "keras_layer (KerasLayer)     (None, 2048)              23564800  \n",
      "_________________________________________________________________\n",
      "dense (Dense)                (None, 6)                 12294     \n",
      "=================================================================\n",
      "Total params: 23,577,094\n",
      "Trainable params: 12,294\n",
      "Non-trainable params: 23,564,800\n",
      "_________________________________________________________________\n"
     ]
    }
   ],
   "source": [
    "# 모델 생성 후 확인\n",
    "\n",
    "''' tf hub feature_extractor '''\n",
    "feature_extractor_url = \"https://tfhub.dev/google/imagenet/resnet_v2_50/feature_vector/4\"\n",
    "feature_extractor_layer = hub.KerasLayer(feature_extractor_url,\n",
    "                                            input_shape=(80,120,3))\n",
    "\n",
    "image_batch = next(image_data)\n",
    "feature_batch = feature_extractor_layer(image_batch)\n",
    "print(feature_batch.shape)\n",
    "\n",
    "num_classes = 6\n",
    "\n",
    "feature_extractor_layer.trainable = False\n",
    "model = tf.keras.Sequential([\n",
    "    feature_extractor_layer,\n",
    "    #layers.Dense(1024, activation='relu'),\n",
    "    #layers.Dropout(0.5),\n",
    "    layers.Dense(num_classes, activation='sigmoid'),\n",
    "])\n",
    "\n",
    "model.summary()"
   ]
  },
  {
   "cell_type": "code",
   "execution_count": 6,
   "metadata": {},
   "outputs": [],
   "source": [
    "# 모델 컴파일\n",
    "\n",
    "model.compile(\n",
    "  optimizer=tf.keras.optimizers.Adam(),\n",
    "  loss='mse',\n",
    "  metrics=['mae']\n",
    "  )"
   ]
  },
  {
   "cell_type": "code",
   "execution_count": 7,
   "metadata": {},
   "outputs": [],
   "source": [
    "# learning rate 조절하는 함수 작성 (지수적으로 감소하도록)\n",
    "\n",
    "def lr_step_decay(epoch):\n",
    "      init_lr = 0.0005 #self.flag.initial_learning_rate\n",
    "      lr_decay = 0.5 #self.flag.learning_rate_decay_factor\n",
    "      epoch_per_decay = 2 #self.flag.epoch_per_decay\n",
    "      lrate = init_lr * math.pow(lr_decay, math.floor((1+epoch)/epoch_per_decay))\n",
    "      return lrate"
   ]
  },
  {
   "cell_type": "code",
   "execution_count": 8,
   "metadata": {},
   "outputs": [
    {
     "output_type": "stream",
     "name": "stdout",
     "text": [
      "23680 32 740\n",
      "Epoch 1/10\n",
      "/home/ssac29/anaconda3/envs/aiffel/lib/python3.7/site-packages/ipykernel_launcher.py:16: RuntimeWarning: Mean of empty slice.\n",
      "  app.launch_new_instance()\n",
      "/home/ssac29/anaconda3/envs/aiffel/lib/python3.7/site-packages/ipykernel_launcher.py:17: RuntimeWarning: Mean of empty slice.\n",
      "740/740 [==============================] - 25s 30ms/step - loss: 0.0282 - mae: 0.0867\n",
      "Epoch 2/10\n",
      "740/740 [==============================] - 18s 25ms/step - loss: 0.0144 - mae: 0.0563\n",
      "Epoch 3/10\n",
      "740/740 [==============================] - 19s 25ms/step - loss: 0.0136 - mae: 0.0542\n",
      "Epoch 4/10\n",
      "740/740 [==============================] - 18s 25ms/step - loss: 0.0133 - mae: 0.0534\n",
      "Epoch 5/10\n",
      "740/740 [==============================] - 18s 25ms/step - loss: 0.0129 - mae: 0.0525\n",
      "Epoch 6/10\n",
      "740/740 [==============================] - 19s 25ms/step - loss: 0.0129 - mae: 0.0522\n",
      "Epoch 7/10\n",
      "740/740 [==============================] - 18s 24ms/step - loss: 0.0129 - mae: 0.0524\n",
      "Epoch 8/10\n",
      "740/740 [==============================] - 18s 24ms/step - loss: 0.0127 - mae: 0.0519\n",
      "Epoch 9/10\n",
      "740/740 [==============================] - 18s 24ms/step - loss: 0.0127 - mae: 0.0518\n",
      "Epoch 10/10\n",
      "740/740 [==============================] - 18s 25ms/step - loss: 0.0129 - mae: 0.0523\n"
     ]
    }
   ],
   "source": [
    "# 모델 학습\n",
    "\n",
    "steps_per_epoch = image_data.samples//image_data.batch_size\n",
    "print (image_data.samples, image_data.batch_size, steps_per_epoch)\n",
    "# 23712 32 741 -> 데이터를 batch_size(32) 의 배수로 맞춰 준비해 주세요. \n",
    "\n",
    "assert(image_data.samples % image_data.batch_size == 0)  # 데이터가 32의 배수가 되지 않으면 model.fit()에서 에러가 발생합니다.\n",
    "\n",
    "learning_rate = LearningRateScheduler(lr_step_decay)\n",
    "\n",
    "history = model.fit(user_train_generator, epochs=10,\n",
    "                    steps_per_epoch=steps_per_epoch,\n",
    "                    callbacks = [learning_rate]\n",
    "                    )"
   ]
  },
  {
   "source": [
    "<br>\n",
    "\n",
    "## 모델 학습 결과 평가 <br><br>\n",
    "\n",
    "검증(validation)용 데이터는 섞어줄(shuffle) 필요가 없기 때문에 <br>\n",
    "```shuffle=False``` 옵션을 추가\n",
    "\n",
    "<br>"
   ],
   "cell_type": "markdown",
   "metadata": {}
  },
  {
   "source": [
    "<br>\n",
    "\n",
    "### 모델 평가 <br><br>\n",
    "\n",
    "\n",
    "평가용 데이터셋 전체(?)에 대하여 <br>\n",
    "정답(label) 과 예측값(label) 의 잔차들의 평균(MSE, MAE)을 통해 모델을 평가 <br><br>\n",
    "\n",
    "tf.keras.Model.evaluate_generator() 메소드 사용 <br>\n",
    "```\n",
    "evaluate_generator(\n",
    "    generator, steps=None, callbacks=None, max_queue_size=10, workers=1,\n",
    "    use_multiprocessing=False, verbose=0\n",
    ")\n",
    "```\n",
    "\n",
    "<br>"
   ],
   "cell_type": "markdown",
   "metadata": {}
  },
  {
   "cell_type": "code",
   "execution_count": 9,
   "metadata": {},
   "outputs": [
    {
     "output_type": "stream",
     "name": "stdout",
     "text": [
      "Found 2638 images belonging to 1 classes.\n",
      "Found 2638 images belonging to 1 classes.\n"
     ]
    }
   ],
   "source": [
    "# 검증용 데이터셋 준비\n",
    "\n",
    "IMAGE_SHAPE = (80, 120)\n",
    "\n",
    "home_dir = os.getenv('HOME')+'/lfw'\n",
    "\n",
    "val_data_root = home_dir + '/data/val/input'\n",
    "val_label_root = home_dir + '/data/val/label'\n",
    "\n",
    "image_generator_val = tf.keras.preprocessing.image.ImageDataGenerator()\n",
    "label_generator_val = tf.keras.preprocessing.image.ImageDataGenerator()\n",
    "image_data_val = image_generator.flow_from_directory(str(val_data_root), class_mode=None, target_size=IMAGE_SHAPE, shuffle=False)\n",
    "label_data_val = label_generator.flow_from_directory(str(val_label_root), class_mode=None, target_size=IMAGE_SHAPE, shuffle=False)"
   ]
  },
  {
   "cell_type": "code",
   "execution_count": 10,
   "metadata": {},
   "outputs": [],
   "source": [
    "# 위에서 작성한 user_val_generator 함수로 평가용 모델에 입력으로 들어갈 데이터셋 준비\n",
    "\n",
    "user_val_generator = user_generation(image_data_val, label_data_val)"
   ]
  },
  {
   "cell_type": "code",
   "execution_count": 11,
   "metadata": {},
   "outputs": [
    {
     "output_type": "stream",
     "name": "stderr",
     "text": [
      "/home/ssac29/anaconda3/envs/aiffel/lib/python3.7/site-packages/tensorflow/python/keras/engine/training.py:1877: UserWarning: `Model.evaluate_generator` is deprecated and will be removed in a future version. Please use `Model.evaluate`, which supports generators.\n",
      "  warnings.warn('`Model.evaluate_generator` is deprecated and '\n",
      "/home/ssac29/anaconda3/envs/aiffel/lib/python3.7/site-packages/ipykernel_launcher.py:16: RuntimeWarning: Mean of empty slice.\n",
      "  app.launch_new_instance()\n",
      "/home/ssac29/anaconda3/envs/aiffel/lib/python3.7/site-packages/ipykernel_launcher.py:17: RuntimeWarning: Mean of empty slice.\n",
      "0.012543492019176483 0.05144177004694939\n"
     ]
    }
   ],
   "source": [
    "# 모델 평가 (정답 label 과 predict label 의 잔차 계산)\n",
    "\n",
    "# MSE (Mean Sqaured Error), MAE (Mean Absolute Error) 로 계산\n",
    "# 평균 에러가 0.026 정도 (우리가 찍은 점들은 120 픽셀을 기준으로 120*0.026 = 3.12 픽셀 정도 에러가 나는 것을 확인할 수 있습니다)\n",
    "\n",
    "mse, mae = model.evaluate_generator(user_val_generator, image_data_val.n // 32)\n",
    "print(mse, mae)"
   ]
  },
  {
   "source": [
    "<br>\n",
    "\n",
    "### 모델 테스트 <br><br>\n",
    "\n",
    "\n",
    "테스트용 모델 1장에 대해 <br>\n",
    "위에서 학습하고 평가 확인한 모델을 적용하여 eye key detection 수행 <br><br>\n",
    "\n",
    "\n",
    "- 입력을 위해 이미지를 120x80 으로 resize 한 후, <br>\n",
    "    배치(batch)를 나타낼 수 있는 4차원 텐서로 변경 <br><br>\n",
    "\n",
    "- 이미지 1장에 대한 출력을 위해 <br>\n",
    "    배치 크기(batch size)를 1 로 설정\n",
    "\n",
    "<br>"
   ],
   "cell_type": "markdown",
   "metadata": {}
  },
  {
   "cell_type": "code",
   "execution_count": 12,
   "metadata": {},
   "outputs": [
    {
     "output_type": "display_data",
     "data": {
      "text/plain": "<Figure size 432x288 with 1 Axes>",
      "image/svg+xml": "<?xml version=\"1.0\" encoding=\"utf-8\" standalone=\"no\"?>\n<!DOCTYPE svg PUBLIC \"-//W3C//DTD SVG 1.1//EN\"\n  \"http://www.w3.org/Graphics/SVG/1.1/DTD/svg11.dtd\">\n<!-- Created with matplotlib (https://matplotlib.org/) -->\n<svg height=\"248.518125pt\" version=\"1.1\" viewBox=\"0 0 299.885 248.518125\" width=\"299.885pt\" xmlns=\"http://www.w3.org/2000/svg\" xmlns:xlink=\"http://www.w3.org/1999/xlink\">\n <metadata>\n  <rdf:RDF xmlns:cc=\"http://creativecommons.org/ns#\" xmlns:dc=\"http://purl.org/dc/elements/1.1/\" xmlns:rdf=\"http://www.w3.org/1999/02/22-rdf-syntax-ns#\">\n   <cc:Work>\n    <dc:type rdf:resource=\"http://purl.org/dc/dcmitype/StillImage\"/>\n    <dc:date>2021-05-15T02:33:32.726298</dc:date>\n    <dc:format>image/svg+xml</dc:format>\n    <dc:creator>\n     <cc:Agent>\n      <dc:title>Matplotlib v3.3.1, https://matplotlib.org/</dc:title>\n     </cc:Agent>\n    </dc:creator>\n   </cc:Work>\n  </rdf:RDF>\n </metadata>\n <defs>\n  <style type=\"text/css\">*{stroke-linecap:butt;stroke-linejoin:round;}</style>\n </defs>\n <g id=\"figure_1\">\n  <g id=\"patch_1\">\n   <path d=\"M 0 248.518125 \nL 299.885 248.518125 \nL 299.885 0 \nL 0 0 \nz\n\" style=\"fill:none;\"/>\n  </g>\n  <g id=\"axes_1\">\n   <g id=\"patch_2\">\n    <path d=\"M 26.925 224.64 \nL 292.685 224.64 \nL 292.685 7.2 \nL 26.925 7.2 \nz\n\" style=\"fill:#ffffff;\"/>\n   </g>\n   <g clip-path=\"url(#p48f4e1a079)\">\n    <image height=\"218\" id=\"imagec7b980cf95\" transform=\"scale(1 -1)translate(0 -218)\" width=\"266\" x=\"26.925\" xlink:href=\"data:image/png;base64,\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\" y=\"-6.64\"/>\n   </g>\n   <g id=\"matplotlib.axis_1\">\n    <g id=\"xtick_1\">\n     <g id=\"line2d_1\">\n      <defs>\n       <path d=\"M 0 0 \nL 0 3.5 \n\" id=\"m114f2c7715\" style=\"stroke:#000000;stroke-width:0.8;\"/>\n      </defs>\n      <g>\n       <use style=\"stroke:#000000;stroke-width:0.8;\" x=\"32.965\" xlink:href=\"#m114f2c7715\" y=\"224.64\"/>\n      </g>\n     </g>\n     <g id=\"text_1\">\n      <!-- 0 -->\n      <g transform=\"translate(29.78375 239.238437)scale(0.1 -0.1)\">\n       <defs>\n        <path d=\"M 31.78125 66.40625 \nQ 24.171875 66.40625 20.328125 58.90625 \nQ 16.5 51.421875 16.5 36.375 \nQ 16.5 21.390625 20.328125 13.890625 \nQ 24.171875 6.390625 31.78125 6.390625 \nQ 39.453125 6.390625 43.28125 13.890625 \nQ 47.125 21.390625 47.125 36.375 \nQ 47.125 51.421875 43.28125 58.90625 \nQ 39.453125 66.40625 31.78125 66.40625 \nz\nM 31.78125 74.21875 \nQ 44.046875 74.21875 50.515625 64.515625 \nQ 56.984375 54.828125 56.984375 36.375 \nQ 56.984375 17.96875 50.515625 8.265625 \nQ 44.046875 -1.421875 31.78125 -1.421875 \nQ 19.53125 -1.421875 13.0625 8.265625 \nQ 6.59375 17.96875 6.59375 36.375 \nQ 6.59375 54.828125 13.0625 64.515625 \nQ 19.53125 74.21875 31.78125 74.21875 \nz\n\" id=\"DejaVuSans-48\"/>\n       </defs>\n       <use xlink:href=\"#DejaVuSans-48\"/>\n      </g>\n     </g>\n    </g>\n    <g id=\"xtick_2\">\n     <g id=\"line2d_2\">\n      <g>\n       <use style=\"stroke:#000000;stroke-width:0.8;\" x=\"93.365\" xlink:href=\"#m114f2c7715\" y=\"224.64\"/>\n      </g>\n     </g>\n     <g id=\"text_2\">\n      <!-- 5 -->\n      <g transform=\"translate(90.18375 239.238437)scale(0.1 -0.1)\">\n       <defs>\n        <path d=\"M 10.796875 72.90625 \nL 49.515625 72.90625 \nL 49.515625 64.59375 \nL 19.828125 64.59375 \nL 19.828125 46.734375 \nQ 21.96875 47.46875 24.109375 47.828125 \nQ 26.265625 48.1875 28.421875 48.1875 \nQ 40.625 48.1875 47.75 41.5 \nQ 54.890625 34.8125 54.890625 23.390625 \nQ 54.890625 11.625 47.5625 5.09375 \nQ 40.234375 -1.421875 26.90625 -1.421875 \nQ 22.3125 -1.421875 17.546875 -0.640625 \nQ 12.796875 0.140625 7.71875 1.703125 \nL 7.71875 11.625 \nQ 12.109375 9.234375 16.796875 8.0625 \nQ 21.484375 6.890625 26.703125 6.890625 \nQ 35.15625 6.890625 40.078125 11.328125 \nQ 45.015625 15.765625 45.015625 23.390625 \nQ 45.015625 31 40.078125 35.4375 \nQ 35.15625 39.890625 26.703125 39.890625 \nQ 22.75 39.890625 18.8125 39.015625 \nQ 14.890625 38.140625 10.796875 36.28125 \nz\n\" id=\"DejaVuSans-53\"/>\n       </defs>\n       <use xlink:href=\"#DejaVuSans-53\"/>\n      </g>\n     </g>\n    </g>\n    <g id=\"xtick_3\">\n     <g id=\"line2d_3\">\n      <g>\n       <use style=\"stroke:#000000;stroke-width:0.8;\" x=\"153.765\" xlink:href=\"#m114f2c7715\" y=\"224.64\"/>\n      </g>\n     </g>\n     <g id=\"text_3\">\n      <!-- 10 -->\n      <g transform=\"translate(147.4025 239.238437)scale(0.1 -0.1)\">\n       <defs>\n        <path d=\"M 12.40625 8.296875 \nL 28.515625 8.296875 \nL 28.515625 63.921875 \nL 10.984375 60.40625 \nL 10.984375 69.390625 \nL 28.421875 72.90625 \nL 38.28125 72.90625 \nL 38.28125 8.296875 \nL 54.390625 8.296875 \nL 54.390625 0 \nL 12.40625 0 \nz\n\" id=\"DejaVuSans-49\"/>\n       </defs>\n       <use xlink:href=\"#DejaVuSans-49\"/>\n       <use x=\"63.623047\" xlink:href=\"#DejaVuSans-48\"/>\n      </g>\n     </g>\n    </g>\n    <g id=\"xtick_4\">\n     <g id=\"line2d_4\">\n      <g>\n       <use style=\"stroke:#000000;stroke-width:0.8;\" x=\"214.165\" xlink:href=\"#m114f2c7715\" y=\"224.64\"/>\n      </g>\n     </g>\n     <g id=\"text_4\">\n      <!-- 15 -->\n      <g transform=\"translate(207.8025 239.238437)scale(0.1 -0.1)\">\n       <use xlink:href=\"#DejaVuSans-49\"/>\n       <use x=\"63.623047\" xlink:href=\"#DejaVuSans-53\"/>\n      </g>\n     </g>\n    </g>\n    <g id=\"xtick_5\">\n     <g id=\"line2d_5\">\n      <g>\n       <use style=\"stroke:#000000;stroke-width:0.8;\" x=\"274.565\" xlink:href=\"#m114f2c7715\" y=\"224.64\"/>\n      </g>\n     </g>\n     <g id=\"text_5\">\n      <!-- 20 -->\n      <g transform=\"translate(268.2025 239.238437)scale(0.1 -0.1)\">\n       <defs>\n        <path d=\"M 19.1875 8.296875 \nL 53.609375 8.296875 \nL 53.609375 0 \nL 7.328125 0 \nL 7.328125 8.296875 \nQ 12.9375 14.109375 22.625 23.890625 \nQ 32.328125 33.6875 34.8125 36.53125 \nQ 39.546875 41.84375 41.421875 45.53125 \nQ 43.3125 49.21875 43.3125 52.78125 \nQ 43.3125 58.59375 39.234375 62.25 \nQ 35.15625 65.921875 28.609375 65.921875 \nQ 23.96875 65.921875 18.8125 64.3125 \nQ 13.671875 62.703125 7.8125 59.421875 \nL 7.8125 69.390625 \nQ 13.765625 71.78125 18.9375 73 \nQ 24.125 74.21875 28.421875 74.21875 \nQ 39.75 74.21875 46.484375 68.546875 \nQ 53.21875 62.890625 53.21875 53.421875 \nQ 53.21875 48.921875 51.53125 44.890625 \nQ 49.859375 40.875 45.40625 35.40625 \nQ 44.1875 33.984375 37.640625 27.21875 \nQ 31.109375 20.453125 19.1875 8.296875 \nz\n\" id=\"DejaVuSans-50\"/>\n       </defs>\n       <use xlink:href=\"#DejaVuSans-50\"/>\n       <use x=\"63.623047\" xlink:href=\"#DejaVuSans-48\"/>\n      </g>\n     </g>\n    </g>\n   </g>\n   <g id=\"matplotlib.axis_2\">\n    <g id=\"ytick_1\">\n     <g id=\"line2d_6\">\n      <defs>\n       <path d=\"M 0 0 \nL -3.5 0 \n\" id=\"m1f1bc844ab\" style=\"stroke:#000000;stroke-width:0.8;\"/>\n      </defs>\n      <g>\n       <use style=\"stroke:#000000;stroke-width:0.8;\" x=\"26.925\" xlink:href=\"#m1f1bc844ab\" y=\"13.24\"/>\n      </g>\n     </g>\n     <g id=\"text_6\">\n      <!-- 0 -->\n      <g transform=\"translate(13.5625 17.039219)scale(0.1 -0.1)\">\n       <use xlink:href=\"#DejaVuSans-48\"/>\n      </g>\n     </g>\n    </g>\n    <g id=\"ytick_2\">\n     <g id=\"line2d_7\">\n      <g>\n       <use style=\"stroke:#000000;stroke-width:0.8;\" x=\"26.925\" xlink:href=\"#m1f1bc844ab\" y=\"37.4\"/>\n      </g>\n     </g>\n     <g id=\"text_7\">\n      <!-- 2 -->\n      <g transform=\"translate(13.5625 41.199219)scale(0.1 -0.1)\">\n       <use xlink:href=\"#DejaVuSans-50\"/>\n      </g>\n     </g>\n    </g>\n    <g id=\"ytick_3\">\n     <g id=\"line2d_8\">\n      <g>\n       <use style=\"stroke:#000000;stroke-width:0.8;\" x=\"26.925\" xlink:href=\"#m1f1bc844ab\" y=\"61.56\"/>\n      </g>\n     </g>\n     <g id=\"text_8\">\n      <!-- 4 -->\n      <g transform=\"translate(13.5625 65.359219)scale(0.1 -0.1)\">\n       <defs>\n        <path d=\"M 37.796875 64.3125 \nL 12.890625 25.390625 \nL 37.796875 25.390625 \nz\nM 35.203125 72.90625 \nL 47.609375 72.90625 \nL 47.609375 25.390625 \nL 58.015625 25.390625 \nL 58.015625 17.1875 \nL 47.609375 17.1875 \nL 47.609375 0 \nL 37.796875 0 \nL 37.796875 17.1875 \nL 4.890625 17.1875 \nL 4.890625 26.703125 \nz\n\" id=\"DejaVuSans-52\"/>\n       </defs>\n       <use xlink:href=\"#DejaVuSans-52\"/>\n      </g>\n     </g>\n    </g>\n    <g id=\"ytick_4\">\n     <g id=\"line2d_9\">\n      <g>\n       <use style=\"stroke:#000000;stroke-width:0.8;\" x=\"26.925\" xlink:href=\"#m1f1bc844ab\" y=\"85.72\"/>\n      </g>\n     </g>\n     <g id=\"text_9\">\n      <!-- 6 -->\n      <g transform=\"translate(13.5625 89.519219)scale(0.1 -0.1)\">\n       <defs>\n        <path d=\"M 33.015625 40.375 \nQ 26.375 40.375 22.484375 35.828125 \nQ 18.609375 31.296875 18.609375 23.390625 \nQ 18.609375 15.53125 22.484375 10.953125 \nQ 26.375 6.390625 33.015625 6.390625 \nQ 39.65625 6.390625 43.53125 10.953125 \nQ 47.40625 15.53125 47.40625 23.390625 \nQ 47.40625 31.296875 43.53125 35.828125 \nQ 39.65625 40.375 33.015625 40.375 \nz\nM 52.59375 71.296875 \nL 52.59375 62.3125 \nQ 48.875 64.0625 45.09375 64.984375 \nQ 41.3125 65.921875 37.59375 65.921875 \nQ 27.828125 65.921875 22.671875 59.328125 \nQ 17.53125 52.734375 16.796875 39.40625 \nQ 19.671875 43.65625 24.015625 45.921875 \nQ 28.375 48.1875 33.59375 48.1875 \nQ 44.578125 48.1875 50.953125 41.515625 \nQ 57.328125 34.859375 57.328125 23.390625 \nQ 57.328125 12.15625 50.6875 5.359375 \nQ 44.046875 -1.421875 33.015625 -1.421875 \nQ 20.359375 -1.421875 13.671875 8.265625 \nQ 6.984375 17.96875 6.984375 36.375 \nQ 6.984375 53.65625 15.1875 63.9375 \nQ 23.390625 74.21875 37.203125 74.21875 \nQ 40.921875 74.21875 44.703125 73.484375 \nQ 48.484375 72.75 52.59375 71.296875 \nz\n\" id=\"DejaVuSans-54\"/>\n       </defs>\n       <use xlink:href=\"#DejaVuSans-54\"/>\n      </g>\n     </g>\n    </g>\n    <g id=\"ytick_5\">\n     <g id=\"line2d_10\">\n      <g>\n       <use style=\"stroke:#000000;stroke-width:0.8;\" x=\"26.925\" xlink:href=\"#m1f1bc844ab\" y=\"109.88\"/>\n      </g>\n     </g>\n     <g id=\"text_10\">\n      <!-- 8 -->\n      <g transform=\"translate(13.5625 113.679219)scale(0.1 -0.1)\">\n       <defs>\n        <path d=\"M 31.78125 34.625 \nQ 24.75 34.625 20.71875 30.859375 \nQ 16.703125 27.09375 16.703125 20.515625 \nQ 16.703125 13.921875 20.71875 10.15625 \nQ 24.75 6.390625 31.78125 6.390625 \nQ 38.8125 6.390625 42.859375 10.171875 \nQ 46.921875 13.96875 46.921875 20.515625 \nQ 46.921875 27.09375 42.890625 30.859375 \nQ 38.875 34.625 31.78125 34.625 \nz\nM 21.921875 38.8125 \nQ 15.578125 40.375 12.03125 44.71875 \nQ 8.5 49.078125 8.5 55.328125 \nQ 8.5 64.0625 14.71875 69.140625 \nQ 20.953125 74.21875 31.78125 74.21875 \nQ 42.671875 74.21875 48.875 69.140625 \nQ 55.078125 64.0625 55.078125 55.328125 \nQ 55.078125 49.078125 51.53125 44.71875 \nQ 48 40.375 41.703125 38.8125 \nQ 48.828125 37.15625 52.796875 32.3125 \nQ 56.78125 27.484375 56.78125 20.515625 \nQ 56.78125 9.90625 50.3125 4.234375 \nQ 43.84375 -1.421875 31.78125 -1.421875 \nQ 19.734375 -1.421875 13.25 4.234375 \nQ 6.78125 9.90625 6.78125 20.515625 \nQ 6.78125 27.484375 10.78125 32.3125 \nQ 14.796875 37.15625 21.921875 38.8125 \nz\nM 18.3125 54.390625 \nQ 18.3125 48.734375 21.84375 45.5625 \nQ 25.390625 42.390625 31.78125 42.390625 \nQ 38.140625 42.390625 41.71875 45.5625 \nQ 45.3125 48.734375 45.3125 54.390625 \nQ 45.3125 60.0625 41.71875 63.234375 \nQ 38.140625 66.40625 31.78125 66.40625 \nQ 25.390625 66.40625 21.84375 63.234375 \nQ 18.3125 60.0625 18.3125 54.390625 \nz\n\" id=\"DejaVuSans-56\"/>\n       </defs>\n       <use xlink:href=\"#DejaVuSans-56\"/>\n      </g>\n     </g>\n    </g>\n    <g id=\"ytick_6\">\n     <g id=\"line2d_11\">\n      <g>\n       <use style=\"stroke:#000000;stroke-width:0.8;\" x=\"26.925\" xlink:href=\"#m1f1bc844ab\" y=\"134.04\"/>\n      </g>\n     </g>\n     <g id=\"text_11\">\n      <!-- 10 -->\n      <g transform=\"translate(7.2 137.839219)scale(0.1 -0.1)\">\n       <use xlink:href=\"#DejaVuSans-49\"/>\n       <use x=\"63.623047\" xlink:href=\"#DejaVuSans-48\"/>\n      </g>\n     </g>\n    </g>\n    <g id=\"ytick_7\">\n     <g id=\"line2d_12\">\n      <g>\n       <use style=\"stroke:#000000;stroke-width:0.8;\" x=\"26.925\" xlink:href=\"#m1f1bc844ab\" y=\"158.2\"/>\n      </g>\n     </g>\n     <g id=\"text_12\">\n      <!-- 12 -->\n      <g transform=\"translate(7.2 161.999219)scale(0.1 -0.1)\">\n       <use xlink:href=\"#DejaVuSans-49\"/>\n       <use x=\"63.623047\" xlink:href=\"#DejaVuSans-50\"/>\n      </g>\n     </g>\n    </g>\n    <g id=\"ytick_8\">\n     <g id=\"line2d_13\">\n      <g>\n       <use style=\"stroke:#000000;stroke-width:0.8;\" x=\"26.925\" xlink:href=\"#m1f1bc844ab\" y=\"182.36\"/>\n      </g>\n     </g>\n     <g id=\"text_13\">\n      <!-- 14 -->\n      <g transform=\"translate(7.2 186.159219)scale(0.1 -0.1)\">\n       <use xlink:href=\"#DejaVuSans-49\"/>\n       <use x=\"63.623047\" xlink:href=\"#DejaVuSans-52\"/>\n      </g>\n     </g>\n    </g>\n    <g id=\"ytick_9\">\n     <g id=\"line2d_14\">\n      <g>\n       <use style=\"stroke:#000000;stroke-width:0.8;\" x=\"26.925\" xlink:href=\"#m1f1bc844ab\" y=\"206.52\"/>\n      </g>\n     </g>\n     <g id=\"text_14\">\n      <!-- 16 -->\n      <g transform=\"translate(7.2 210.319219)scale(0.1 -0.1)\">\n       <use xlink:href=\"#DejaVuSans-49\"/>\n       <use x=\"63.623047\" xlink:href=\"#DejaVuSans-54\"/>\n      </g>\n     </g>\n    </g>\n   </g>\n   <g id=\"patch_3\">\n    <path d=\"M 26.925 224.64 \nL 26.925 7.2 \n\" style=\"fill:none;stroke:#000000;stroke-linecap:square;stroke-linejoin:miter;stroke-width:0.8;\"/>\n   </g>\n   <g id=\"patch_4\">\n    <path d=\"M 292.685 224.64 \nL 292.685 7.2 \n\" style=\"fill:none;stroke:#000000;stroke-linecap:square;stroke-linejoin:miter;stroke-width:0.8;\"/>\n   </g>\n   <g id=\"patch_5\">\n    <path d=\"M 26.925 224.64 \nL 292.685 224.64 \n\" style=\"fill:none;stroke:#000000;stroke-linecap:square;stroke-linejoin:miter;stroke-width:0.8;\"/>\n   </g>\n   <g id=\"patch_6\">\n    <path d=\"M 26.925 7.2 \nL 292.685 7.2 \n\" style=\"fill:none;stroke:#000000;stroke-linecap:square;stroke-linejoin:miter;stroke-width:0.8;\"/>\n   </g>\n  </g>\n </g>\n <defs>\n  <clipPath id=\"p48f4e1a079\">\n   <rect height=\"217.44\" width=\"265.76\" x=\"26.925\" y=\"7.2\"/>\n  </clipPath>\n </defs>\n</svg>\n",
      "image/png": "[encoded data removed]"
     },
     "metadata": {
      "needs_background": "light"
     }
    }
   ],
   "source": [
    "# img test : 실제 이미지에 출력하여 확인\n",
    "\n",
    "import cv2\n",
    "import matplotlib.pyplot as plt\n",
    "\n",
    "img = cv2.imread(val_data_root+'/img/eye_000010_l.png')\n",
    "\n",
    "plt.imshow(cv2.cvtColor(img, cv2.COLOR_BGR2RGB))\n",
    "plt.show()"
   ]
  },
  {
   "cell_type": "code",
   "execution_count": 13,
   "metadata": {},
   "outputs": [
    {
     "output_type": "stream",
     "name": "stdout",
     "text": [
      "[[[2.8020787e-04 8.9076872e-04]\n  [1.1999970e+02 7.9999893e+01]\n  [4.1624363e+01 2.9241312e+01]]]\n"
     ]
    }
   ],
   "source": [
    "# 테스트하고자 하는 이미지에 모델을 적용하기 위해, 모델 입력에 맞는 크기로 이미지 리사이즈 적용\n",
    "# 위에서 학습한 keypoint detection 모델로 눈동자 위치의 점 예측 수행\n",
    "\n",
    "np_inputs = np.expand_dims(cv2.resize(img, (120, 80)), axis=0)\n",
    "preds = model.predict(np_inputs/255., 1)\n",
    "\n",
    "repred = preds.reshape((1, 3, 2))\n",
    "repred[:,:,0] *= 120\n",
    "repred[:,:,1] *= 80\n",
    "\n",
    "# 출력 결과는 1행부터 좌측, 우측, 중앙 좌표를 나타냄\n",
    "print (repred)"
   ]
  },
  {
   "cell_type": "code",
   "execution_count": 14,
   "metadata": {},
   "outputs": [
    {
     "output_type": "stream",
     "name": "stdout",
     "text": [
      "[0. 0.]\n[120.  80.]\n[42. 29.]\n"
     ]
    },
    {
     "output_type": "display_data",
     "data": {
      "text/plain": "<Figure size 432x288 with 1 Axes>",
      "image/svg+xml": "<?xml version=\"1.0\" encoding=\"utf-8\" standalone=\"no\"?>\n<!DOCTYPE svg PUBLIC \"-//W3C//DTD SVG 1.1//EN\"\n  \"http://www.w3.org/Graphics/SVG/1.1/DTD/svg11.dtd\">\n<!-- Created with matplotlib (https://matplotlib.org/) -->\n<svg height=\"248.518125pt\" version=\"1.1\" viewBox=\"0 0 299.885 248.518125\" width=\"299.885pt\" xmlns=\"http://www.w3.org/2000/svg\" xmlns:xlink=\"http://www.w3.org/1999/xlink\">\n <metadata>\n  <rdf:RDF xmlns:cc=\"http://creativecommons.org/ns#\" xmlns:dc=\"http://purl.org/dc/elements/1.1/\" xmlns:rdf=\"http://www.w3.org/1999/02/22-rdf-syntax-ns#\">\n   <cc:Work>\n    <dc:type rdf:resource=\"http://purl.org/dc/dcmitype/StillImage\"/>\n    <dc:date>2021-05-15T02:35:51.943938</dc:date>\n    <dc:format>image/svg+xml</dc:format>\n    <dc:creator>\n     <cc:Agent>\n      <dc:title>Matplotlib v3.3.1, https://matplotlib.org/</dc:title>\n     </cc:Agent>\n    </dc:creator>\n   </cc:Work>\n  </rdf:RDF>\n </metadata>\n <defs>\n  <style type=\"text/css\">*{stroke-linecap:butt;stroke-linejoin:round;}</style>\n </defs>\n <g id=\"figure_1\">\n  <g id=\"patch_1\">\n   <path d=\"M 0 248.518125 \nL 299.885 248.518125 \nL 299.885 0 \nL 0 0 \nz\n\" style=\"fill:none;\"/>\n  </g>\n  <g id=\"axes_1\">\n   <g id=\"patch_2\">\n    <path d=\"M 26.925 224.64 \nL 292.685 224.64 \nL 292.685 7.2 \nL 26.925 7.2 \nz\n\" style=\"fill:#ffffff;\"/>\n   </g>\n   <g clip-path=\"url(#p01a602a45a)\">\n    <image height=\"218\" id=\"image751541ac74\" transform=\"scale(1 -1)translate(0 -218)\" width=\"266\" x=\"26.925\" xlink:href=\"data:image/png;base64,\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\" y=\"-6.64\"/>\n   </g>\n   <g id=\"matplotlib.axis_1\">\n    <g id=\"xtick_1\">\n     <g id=\"line2d_1\">\n      <defs>\n       <path d=\"M 0 0 \nL 0 3.5 \n\" id=\"m8afeda841c\" style=\"stroke:#000000;stroke-width:0.8;\"/>\n      </defs>\n      <g>\n       <use style=\"stroke:#000000;stroke-width:0.8;\" x=\"32.965\" xlink:href=\"#m8afeda841c\" y=\"224.64\"/>\n      </g>\n     </g>\n     <g id=\"text_1\">\n      <!-- 0 -->\n      <g transform=\"translate(29.78375 239.238437)scale(0.1 -0.1)\">\n       <defs>\n        <path d=\"M 31.78125 66.40625 \nQ 24.171875 66.40625 20.328125 58.90625 \nQ 16.5 51.421875 16.5 36.375 \nQ 16.5 21.390625 20.328125 13.890625 \nQ 24.171875 6.390625 31.78125 6.390625 \nQ 39.453125 6.390625 43.28125 13.890625 \nQ 47.125 21.390625 47.125 36.375 \nQ 47.125 51.421875 43.28125 58.90625 \nQ 39.453125 66.40625 31.78125 66.40625 \nz\nM 31.78125 74.21875 \nQ 44.046875 74.21875 50.515625 64.515625 \nQ 56.984375 54.828125 56.984375 36.375 \nQ 56.984375 17.96875 50.515625 8.265625 \nQ 44.046875 -1.421875 31.78125 -1.421875 \nQ 19.53125 -1.421875 13.0625 8.265625 \nQ 6.59375 17.96875 6.59375 36.375 \nQ 6.59375 54.828125 13.0625 64.515625 \nQ 19.53125 74.21875 31.78125 74.21875 \nz\n\" id=\"DejaVuSans-48\"/>\n       </defs>\n       <use xlink:href=\"#DejaVuSans-48\"/>\n      </g>\n     </g>\n    </g>\n    <g id=\"xtick_2\">\n     <g id=\"line2d_2\">\n      <g>\n       <use style=\"stroke:#000000;stroke-width:0.8;\" x=\"93.365\" xlink:href=\"#m8afeda841c\" y=\"224.64\"/>\n      </g>\n     </g>\n     <g id=\"text_2\">\n      <!-- 5 -->\n      <g transform=\"translate(90.18375 239.238437)scale(0.1 -0.1)\">\n       <defs>\n        <path d=\"M 10.796875 72.90625 \nL 49.515625 72.90625 \nL 49.515625 64.59375 \nL 19.828125 64.59375 \nL 19.828125 46.734375 \nQ 21.96875 47.46875 24.109375 47.828125 \nQ 26.265625 48.1875 28.421875 48.1875 \nQ 40.625 48.1875 47.75 41.5 \nQ 54.890625 34.8125 54.890625 23.390625 \nQ 54.890625 11.625 47.5625 5.09375 \nQ 40.234375 -1.421875 26.90625 -1.421875 \nQ 22.3125 -1.421875 17.546875 -0.640625 \nQ 12.796875 0.140625 7.71875 1.703125 \nL 7.71875 11.625 \nQ 12.109375 9.234375 16.796875 8.0625 \nQ 21.484375 6.890625 26.703125 6.890625 \nQ 35.15625 6.890625 40.078125 11.328125 \nQ 45.015625 15.765625 45.015625 23.390625 \nQ 45.015625 31 40.078125 35.4375 \nQ 35.15625 39.890625 26.703125 39.890625 \nQ 22.75 39.890625 18.8125 39.015625 \nQ 14.890625 38.140625 10.796875 36.28125 \nz\n\" id=\"DejaVuSans-53\"/>\n       </defs>\n       <use xlink:href=\"#DejaVuSans-53\"/>\n      </g>\n     </g>\n    </g>\n    <g id=\"xtick_3\">\n     <g id=\"line2d_3\">\n      <g>\n       <use style=\"stroke:#000000;stroke-width:0.8;\" x=\"153.765\" xlink:href=\"#m8afeda841c\" y=\"224.64\"/>\n      </g>\n     </g>\n     <g id=\"text_3\">\n      <!-- 10 -->\n      <g transform=\"translate(147.4025 239.238437)scale(0.1 -0.1)\">\n       <defs>\n        <path d=\"M 12.40625 8.296875 \nL 28.515625 8.296875 \nL 28.515625 63.921875 \nL 10.984375 60.40625 \nL 10.984375 69.390625 \nL 28.421875 72.90625 \nL 38.28125 72.90625 \nL 38.28125 8.296875 \nL 54.390625 8.296875 \nL 54.390625 0 \nL 12.40625 0 \nz\n\" id=\"DejaVuSans-49\"/>\n       </defs>\n       <use xlink:href=\"#DejaVuSans-49\"/>\n       <use x=\"63.623047\" xlink:href=\"#DejaVuSans-48\"/>\n      </g>\n     </g>\n    </g>\n    <g id=\"xtick_4\">\n     <g id=\"line2d_4\">\n      <g>\n       <use style=\"stroke:#000000;stroke-width:0.8;\" x=\"214.165\" xlink:href=\"#m8afeda841c\" y=\"224.64\"/>\n      </g>\n     </g>\n     <g id=\"text_4\">\n      <!-- 15 -->\n      <g transform=\"translate(207.8025 239.238437)scale(0.1 -0.1)\">\n       <use xlink:href=\"#DejaVuSans-49\"/>\n       <use x=\"63.623047\" xlink:href=\"#DejaVuSans-53\"/>\n      </g>\n     </g>\n    </g>\n    <g id=\"xtick_5\">\n     <g id=\"line2d_5\">\n      <g>\n       <use style=\"stroke:#000000;stroke-width:0.8;\" x=\"274.565\" xlink:href=\"#m8afeda841c\" y=\"224.64\"/>\n      </g>\n     </g>\n     <g id=\"text_5\">\n      <!-- 20 -->\n      <g transform=\"translate(268.2025 239.238437)scale(0.1 -0.1)\">\n       <defs>\n        <path d=\"M 19.1875 8.296875 \nL 53.609375 8.296875 \nL 53.609375 0 \nL 7.328125 0 \nL 7.328125 8.296875 \nQ 12.9375 14.109375 22.625 23.890625 \nQ 32.328125 33.6875 34.8125 36.53125 \nQ 39.546875 41.84375 41.421875 45.53125 \nQ 43.3125 49.21875 43.3125 52.78125 \nQ 43.3125 58.59375 39.234375 62.25 \nQ 35.15625 65.921875 28.609375 65.921875 \nQ 23.96875 65.921875 18.8125 64.3125 \nQ 13.671875 62.703125 7.8125 59.421875 \nL 7.8125 69.390625 \nQ 13.765625 71.78125 18.9375 73 \nQ 24.125 74.21875 28.421875 74.21875 \nQ 39.75 74.21875 46.484375 68.546875 \nQ 53.21875 62.890625 53.21875 53.421875 \nQ 53.21875 48.921875 51.53125 44.890625 \nQ 49.859375 40.875 45.40625 35.40625 \nQ 44.1875 33.984375 37.640625 27.21875 \nQ 31.109375 20.453125 19.1875 8.296875 \nz\n\" id=\"DejaVuSans-50\"/>\n       </defs>\n       <use xlink:href=\"#DejaVuSans-50\"/>\n       <use x=\"63.623047\" xlink:href=\"#DejaVuSans-48\"/>\n      </g>\n     </g>\n    </g>\n   </g>\n   <g id=\"matplotlib.axis_2\">\n    <g id=\"ytick_1\">\n     <g id=\"line2d_6\">\n      <defs>\n       <path d=\"M 0 0 \nL -3.5 0 \n\" id=\"mae5e90d475\" style=\"stroke:#000000;stroke-width:0.8;\"/>\n      </defs>\n      <g>\n       <use style=\"stroke:#000000;stroke-width:0.8;\" x=\"26.925\" xlink:href=\"#mae5e90d475\" y=\"13.24\"/>\n      </g>\n     </g>\n     <g id=\"text_6\">\n      <!-- 0 -->\n      <g transform=\"translate(13.5625 17.039219)scale(0.1 -0.1)\">\n       <use xlink:href=\"#DejaVuSans-48\"/>\n      </g>\n     </g>\n    </g>\n    <g id=\"ytick_2\">\n     <g id=\"line2d_7\">\n      <g>\n       <use style=\"stroke:#000000;stroke-width:0.8;\" x=\"26.925\" xlink:href=\"#mae5e90d475\" y=\"37.4\"/>\n      </g>\n     </g>\n     <g id=\"text_7\">\n      <!-- 2 -->\n      <g transform=\"translate(13.5625 41.199219)scale(0.1 -0.1)\">\n       <use xlink:href=\"#DejaVuSans-50\"/>\n      </g>\n     </g>\n    </g>\n    <g id=\"ytick_3\">\n     <g id=\"line2d_8\">\n      <g>\n       <use style=\"stroke:#000000;stroke-width:0.8;\" x=\"26.925\" xlink:href=\"#mae5e90d475\" y=\"61.56\"/>\n      </g>\n     </g>\n     <g id=\"text_8\">\n      <!-- 4 -->\n      <g transform=\"translate(13.5625 65.359219)scale(0.1 -0.1)\">\n       <defs>\n        <path d=\"M 37.796875 64.3125 \nL 12.890625 25.390625 \nL 37.796875 25.390625 \nz\nM 35.203125 72.90625 \nL 47.609375 72.90625 \nL 47.609375 25.390625 \nL 58.015625 25.390625 \nL 58.015625 17.1875 \nL 47.609375 17.1875 \nL 47.609375 0 \nL 37.796875 0 \nL 37.796875 17.1875 \nL 4.890625 17.1875 \nL 4.890625 26.703125 \nz\n\" id=\"DejaVuSans-52\"/>\n       </defs>\n       <use xlink:href=\"#DejaVuSans-52\"/>\n      </g>\n     </g>\n    </g>\n    <g id=\"ytick_4\">\n     <g id=\"line2d_9\">\n      <g>\n       <use style=\"stroke:#000000;stroke-width:0.8;\" x=\"26.925\" xlink:href=\"#mae5e90d475\" y=\"85.72\"/>\n      </g>\n     </g>\n     <g id=\"text_9\">\n      <!-- 6 -->\n      <g transform=\"translate(13.5625 89.519219)scale(0.1 -0.1)\">\n       <defs>\n        <path d=\"M 33.015625 40.375 \nQ 26.375 40.375 22.484375 35.828125 \nQ 18.609375 31.296875 18.609375 23.390625 \nQ 18.609375 15.53125 22.484375 10.953125 \nQ 26.375 6.390625 33.015625 6.390625 \nQ 39.65625 6.390625 43.53125 10.953125 \nQ 47.40625 15.53125 47.40625 23.390625 \nQ 47.40625 31.296875 43.53125 35.828125 \nQ 39.65625 40.375 33.015625 40.375 \nz\nM 52.59375 71.296875 \nL 52.59375 62.3125 \nQ 48.875 64.0625 45.09375 64.984375 \nQ 41.3125 65.921875 37.59375 65.921875 \nQ 27.828125 65.921875 22.671875 59.328125 \nQ 17.53125 52.734375 16.796875 39.40625 \nQ 19.671875 43.65625 24.015625 45.921875 \nQ 28.375 48.1875 33.59375 48.1875 \nQ 44.578125 48.1875 50.953125 41.515625 \nQ 57.328125 34.859375 57.328125 23.390625 \nQ 57.328125 12.15625 50.6875 5.359375 \nQ 44.046875 -1.421875 33.015625 -1.421875 \nQ 20.359375 -1.421875 13.671875 8.265625 \nQ 6.984375 17.96875 6.984375 36.375 \nQ 6.984375 53.65625 15.1875 63.9375 \nQ 23.390625 74.21875 37.203125 74.21875 \nQ 40.921875 74.21875 44.703125 73.484375 \nQ 48.484375 72.75 52.59375 71.296875 \nz\n\" id=\"DejaVuSans-54\"/>\n       </defs>\n       <use xlink:href=\"#DejaVuSans-54\"/>\n      </g>\n     </g>\n    </g>\n    <g id=\"ytick_5\">\n     <g id=\"line2d_10\">\n      <g>\n       <use style=\"stroke:#000000;stroke-width:0.8;\" x=\"26.925\" xlink:href=\"#mae5e90d475\" y=\"109.88\"/>\n      </g>\n     </g>\n     <g id=\"text_10\">\n      <!-- 8 -->\n      <g transform=\"translate(13.5625 113.679219)scale(0.1 -0.1)\">\n       <defs>\n        <path d=\"M 31.78125 34.625 \nQ 24.75 34.625 20.71875 30.859375 \nQ 16.703125 27.09375 16.703125 20.515625 \nQ 16.703125 13.921875 20.71875 10.15625 \nQ 24.75 6.390625 31.78125 6.390625 \nQ 38.8125 6.390625 42.859375 10.171875 \nQ 46.921875 13.96875 46.921875 20.515625 \nQ 46.921875 27.09375 42.890625 30.859375 \nQ 38.875 34.625 31.78125 34.625 \nz\nM 21.921875 38.8125 \nQ 15.578125 40.375 12.03125 44.71875 \nQ 8.5 49.078125 8.5 55.328125 \nQ 8.5 64.0625 14.71875 69.140625 \nQ 20.953125 74.21875 31.78125 74.21875 \nQ 42.671875 74.21875 48.875 69.140625 \nQ 55.078125 64.0625 55.078125 55.328125 \nQ 55.078125 49.078125 51.53125 44.71875 \nQ 48 40.375 41.703125 38.8125 \nQ 48.828125 37.15625 52.796875 32.3125 \nQ 56.78125 27.484375 56.78125 20.515625 \nQ 56.78125 9.90625 50.3125 4.234375 \nQ 43.84375 -1.421875 31.78125 -1.421875 \nQ 19.734375 -1.421875 13.25 4.234375 \nQ 6.78125 9.90625 6.78125 20.515625 \nQ 6.78125 27.484375 10.78125 32.3125 \nQ 14.796875 37.15625 21.921875 38.8125 \nz\nM 18.3125 54.390625 \nQ 18.3125 48.734375 21.84375 45.5625 \nQ 25.390625 42.390625 31.78125 42.390625 \nQ 38.140625 42.390625 41.71875 45.5625 \nQ 45.3125 48.734375 45.3125 54.390625 \nQ 45.3125 60.0625 41.71875 63.234375 \nQ 38.140625 66.40625 31.78125 66.40625 \nQ 25.390625 66.40625 21.84375 63.234375 \nQ 18.3125 60.0625 18.3125 54.390625 \nz\n\" id=\"DejaVuSans-56\"/>\n       </defs>\n       <use xlink:href=\"#DejaVuSans-56\"/>\n      </g>\n     </g>\n    </g>\n    <g id=\"ytick_6\">\n     <g id=\"line2d_11\">\n      <g>\n       <use style=\"stroke:#000000;stroke-width:0.8;\" x=\"26.925\" xlink:href=\"#mae5e90d475\" y=\"134.04\"/>\n      </g>\n     </g>\n     <g id=\"text_11\">\n      <!-- 10 -->\n      <g transform=\"translate(7.2 137.839219)scale(0.1 -0.1)\">\n       <use xlink:href=\"#DejaVuSans-49\"/>\n       <use x=\"63.623047\" xlink:href=\"#DejaVuSans-48\"/>\n      </g>\n     </g>\n    </g>\n    <g id=\"ytick_7\">\n     <g id=\"line2d_12\">\n      <g>\n       <use style=\"stroke:#000000;stroke-width:0.8;\" x=\"26.925\" xlink:href=\"#mae5e90d475\" y=\"158.2\"/>\n      </g>\n     </g>\n     <g id=\"text_12\">\n      <!-- 12 -->\n      <g transform=\"translate(7.2 161.999219)scale(0.1 -0.1)\">\n       <use xlink:href=\"#DejaVuSans-49\"/>\n       <use x=\"63.623047\" xlink:href=\"#DejaVuSans-50\"/>\n      </g>\n     </g>\n    </g>\n    <g id=\"ytick_8\">\n     <g id=\"line2d_13\">\n      <g>\n       <use style=\"stroke:#000000;stroke-width:0.8;\" x=\"26.925\" xlink:href=\"#mae5e90d475\" y=\"182.36\"/>\n      </g>\n     </g>\n     <g id=\"text_13\">\n      <!-- 14 -->\n      <g transform=\"translate(7.2 186.159219)scale(0.1 -0.1)\">\n       <use xlink:href=\"#DejaVuSans-49\"/>\n       <use x=\"63.623047\" xlink:href=\"#DejaVuSans-52\"/>\n      </g>\n     </g>\n    </g>\n    <g id=\"ytick_9\">\n     <g id=\"line2d_14\">\n      <g>\n       <use style=\"stroke:#000000;stroke-width:0.8;\" x=\"26.925\" xlink:href=\"#mae5e90d475\" y=\"206.52\"/>\n      </g>\n     </g>\n     <g id=\"text_14\">\n      <!-- 16 -->\n      <g transform=\"translate(7.2 210.319219)scale(0.1 -0.1)\">\n       <use xlink:href=\"#DejaVuSans-49\"/>\n       <use x=\"63.623047\" xlink:href=\"#DejaVuSans-54\"/>\n      </g>\n     </g>\n    </g>\n   </g>\n   <g id=\"patch_3\">\n    <path d=\"M 26.925 224.64 \nL 26.925 7.2 \n\" style=\"fill:none;stroke:#000000;stroke-linecap:square;stroke-linejoin:miter;stroke-width:0.8;\"/>\n   </g>\n   <g id=\"patch_4\">\n    <path d=\"M 292.685 224.64 \nL 292.685 7.2 \n\" style=\"fill:none;stroke:#000000;stroke-linecap:square;stroke-linejoin:miter;stroke-width:0.8;\"/>\n   </g>\n   <g id=\"patch_5\">\n    <path d=\"M 26.925 224.64 \nL 292.685 224.64 \n\" style=\"fill:none;stroke:#000000;stroke-linecap:square;stroke-linejoin:miter;stroke-width:0.8;\"/>\n   </g>\n   <g id=\"patch_6\">\n    <path d=\"M 26.925 7.2 \nL 292.685 7.2 \n\" style=\"fill:none;stroke:#000000;stroke-linecap:square;stroke-linejoin:miter;stroke-width:0.8;\"/>\n   </g>\n  </g>\n </g>\n <defs>\n  <clipPath id=\"p01a602a45a\">\n   <rect height=\"217.44\" width=\"265.76\" x=\"26.925\" y=\"7.2\"/>\n  </clipPath>\n </defs>\n</svg>\n",
      "image/png": "[encoded data removed]"
     },
     "metadata": {
      "needs_background": "light"
     }
    }
   ],
   "source": [
    "# 결과를 이미지로 출력 (시각화)\n",
    "\n",
    "show = img.copy()\n",
    "for pt in repred[0]:\n",
    "    print (pt.round())\n",
    "    show = cv2.circle(show, tuple((pt*0.5).astype(int)), 3, (0,255,255), -1)\n",
    "\n",
    "plt.imshow(cv2.cvtColor(show, cv2.COLOR_BGR2RGB))\n",
    "plt.show()"
   ]
  },
  {
   "source": [
    "<br>\n",
    "\n",
    "눈의 왼쪽은 정말 잘 찾은 것 같은 반면, 눈 중심과 오른쪽 위치는 5픽셀 정도의 오차를 보이는 것 같습니다. <br>\n",
    "더 정확한 성능(적은 에러)를 원한다면 데이터를 추가로 넣어야 할 것 같습니다.\n",
    "\n",
    "<br>"
   ],
   "cell_type": "markdown",
   "metadata": {}
  },
  {
   "source": [
    "<br>\n",
    "\n",
    "## 프로젝트 : 카메라 앱에 표정효과 적용 <br><br>\n",
    "\n",
    "위에서 만든 eye keypoint detection 모델을 이용하여 눈의 위치 좌표를 찾고, <br>\n",
    "해당 위치에 스티커 붙이기 효과를 적용해 봅시다. (당황한 표정의 눈 이미지를 준비하여 원본 얼굴 이미지에 합성)\n",
    "\n",
    "<br>"
   ],
   "cell_type": "markdown",
   "metadata": {}
  },
  {
   "cell_type": "code",
   "execution_count": null,
   "metadata": {},
   "outputs": [],
   "source": []
  }
 ]
}